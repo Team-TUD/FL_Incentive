{
 "cells": [
  {
   "cell_type": "code",
   "execution_count": 1,
   "metadata": {},
   "outputs": [],
   "source": [
    "import numpy as np\n",
    "import math\n",
    "import itertools\n",
    "from keras.optimizers import SGD\n",
    "from keras.preprocessing.image import ImageDataGenerator\n",
    "from keras.models import clone_model\n",
    "from datasets import get_data, get_training_data\n",
    "from models import get_model, resnet_v1, resnet_v2\n",
    "from util import select_clean_uncertain, combine_result, inject_noise\n",
    "import time\n",
    "import argparse\n",
    "from tensorflow.python.lib.io import file_io\n",
    "from keras.utils import np_utils, multi_gpu_model\n",
    "from keras import backend as K\n",
    "from io import BytesIO\n",
    "from loss_acc_plot import loss_acc_plot\n",
    "from keras.datasets import mnist, cifar10, cifar100, fashion_mnist"
   ]
  },
  {
   "cell_type": "code",
   "execution_count": 37,
   "metadata": {},
   "outputs": [
    {
     "name": "stdout",
     "output_type": "stream",
     "text": [
      "X_train: (50000, 32, 32, 3)\n",
      "y_train: (50000, 10)\n",
      "X_test: (10000, 32, 32, 3)\n",
      "y_test (10000, 10)\n"
     ]
    }
   ],
   "source": [
    "NUM_CLASSES = {'mnist': 10, 'svhn': 10, 'cifar-10': 10, 'cifar-100': 100, 'celeb': 20}\n",
    "dataset = \"cifar-10\"\n",
    "init_noise_ratio = 0\n",
    "data_ratio = 100.0\n",
    "X_train, y_train, X_test, y_test, un_selected_index = get_data(dataset, init_noise_ratio, data_ratio, random_shuffle=False)"
   ]
  },
  {
   "cell_type": "code",
   "execution_count": 6,
   "metadata": {},
   "outputs": [],
   "source": [
    "n_client = 3\n",
    "client_data_number_interval = 2000\n",
    "clients = []\n",
    "clients_train_data = []\n",
    "clients_train_label = []"
   ]
  },
  {
   "cell_type": "code",
   "execution_count": 7,
   "metadata": {},
   "outputs": [],
   "source": [
    "cursor = 0\n",
    "image_shape = X_train.shape[1:]\n",
    "server =  get_model(dataset, input_tensor=None, input_shape=image_shape, num_classes=NUM_CLASSES[dataset])\n",
    "# initialize n_client models, and the correspondante training data for each client\n",
    "# each client has different data size\n",
    "for i in range(n_client):\n",
    "    clients.append(get_model(dataset, input_tensor=None, input_shape=image_shape, num_classes=NUM_CLASSES[dataset]))\n",
    "    clients_train_data.append(X_train[cursor: cursor+client_data_number_interval*(i+1)])\n",
    "    clients_train_label.append(y_train[cursor: cursor+client_data_number_interval*(i+1)])\n",
    "    cursor = cursor + client_data_number_interval*(i)"
   ]
  },
  {
   "cell_type": "code",
   "execution_count": 8,
   "metadata": {},
   "outputs": [],
   "source": [
    "optimizer = SGD(lr=0.01, decay=1e-4, momentum=0.9)\n",
    "server.compile(loss='categorical_crossentropy',\n",
    "              optimizer=optimizer,\n",
    "              metrics=['accuracy'])\n",
    "for i in range(n_client):\n",
    "    clients[i].compile(loss='categorical_crossentropy',\n",
    "              optimizer=optimizer,\n",
    "              metrics=['accuracy'])"
   ]
  },
  {
   "cell_type": "code",
   "execution_count": 9,
   "metadata": {},
   "outputs": [],
   "source": [
    "datagen = ImageDataGenerator(\n",
    "        featurewise_center = False,  # set input mean to 0 over the dataset\n",
    "        samplewise_center = False,  # set each sample mean to 0\n",
    "        featurewise_std_normalization = False,  # divide inputs by std of the dataset\n",
    "        samplewise_std_normalization = False,  # divide each input by its std\n",
    "        zca_whitening = False,  # apply ZCA whitening\n",
    "        rotation_range = 0,  # randomly rotate images in the range (degrees, 0 to 180)\n",
    "        width_shift_range = 0.1,  # randomly shift images horizontally (fraction of total width)\n",
    "        height_shift_range = 0.1,  # randomly shift images vertically (fraction of total height)\n",
    "        horizontal_flip = True,  # randomly flip images\n",
    "        vertical_flip = False,  # randomly flip images\n",
    "        )\n",
    "datagen.fit(X_train)"
   ]
  },
  {
   "cell_type": "code",
   "execution_count": 10,
   "metadata": {},
   "outputs": [
    {
     "name": "stdout",
     "output_type": "stream",
     "text": [
      "WARNING:tensorflow:From <ipython-input-10-c3c22c32727b>:9: Model.fit_generator (from tensorflow.python.keras.engine.training) is deprecated and will be removed in a future version.\n",
      "Instructions for updating:\n",
      "Please use Model.fit, which supports generators.\n",
      "Epoch 1/2\n",
      "31/31 [==============================] - 45s 1s/step - loss: 6.9256 - accuracy: 0.3135 - val_loss: 7.1309 - val_accuracy: 0.2175\n",
      "Epoch 2/2\n",
      "31/31 [==============================] - 44s 1s/step - loss: 5.9998 - accuracy: 0.4442 - val_loss: 5.9834 - val_accuracy: 0.3660\n",
      "Epoch 1/2\n",
      "62/62 [==============================] - 62s 994ms/step - loss: 6.5904 - accuracy: 0.3308 - val_loss: 5.9439 - val_accuracy: 0.3773\n",
      "Epoch 2/2\n",
      "62/62 [==============================] - 60s 966ms/step - loss: 5.1904 - accuracy: 0.4693 - val_loss: 5.4598 - val_accuracy: 0.2953\n",
      "Epoch 1/2\n",
      "93/93 [==============================] - 79s 854ms/step - loss: 6.2301 - accuracy: 0.3716 - val_loss: 5.8109 - val_accuracy: 0.2402\n",
      "Epoch 2/2\n",
      "93/93 [==============================] - 81s 869ms/step - loss: 4.5327 - accuracy: 0.5037 - val_loss: 4.8364 - val_accuracy: 0.2671\n"
     ]
    }
   ],
   "source": [
    "batch_size = 64\n",
    "results = []\n",
    "# 2 is only for quick test, need to set a large number\n",
    "epochs = 2\n",
    "for i in range(n_client):\n",
    "    results.append(\n",
    "        clients[i].fit_generator(datagen.flow(clients_train_data[i], clients_train_label[i], batch_size=batch_size),\n",
    "                                steps_per_epoch=clients_train_data[i].shape[0]//batch_size, epochs=epochs,\n",
    "                                validation_data=(X_test, y_test)\n",
    "                                )\n",
    "    )"
   ]
  },
  {
   "cell_type": "code",
   "execution_count": 43,
   "metadata": {},
   "outputs": [],
   "source": [
    "def aggregate_weights(client_list):\n",
    "    n_client = len(client_list)\n",
    "    if n_client == 0:\n",
    "        print('empty input')\n",
    "        return\n",
    "    n_layers = len(client_list[0].get_weights())\n",
    "    # copy the weights and structure from last client\n",
    "    result = client_list[n_client-1].get_weights().copy()\n",
    "    for k in range(n_client):\n",
    "        result[k] = result[k]*(1.0/n_client)    \n",
    "    for i in range(n_layers):\n",
    "        # Using n_client -1: because result contains already last client's weights\n",
    "        for j in range(n_client-1):\n",
    "            result[i] = result[i] + client_list[j].get_weights()[i]*(1.0/n_client)            \n",
    "    return result"
   ]
  },
  {
   "cell_type": "code",
   "execution_count": 12,
   "metadata": {},
   "outputs": [],
   "source": [
    "weights = aggregate_weights(clients)"
   ]
  },
  {
   "cell_type": "code",
   "execution_count": 13,
   "metadata": {},
   "outputs": [],
   "source": [
    "server.set_weights(weights)"
   ]
  },
  {
   "cell_type": "code",
   "execution_count": 14,
   "metadata": {},
   "outputs": [
    {
     "name": "stdout",
     "output_type": "stream",
     "text": [
      "Evaluate on test data with all model aggregation\n",
      "157/157 [==============================] - 24s 155ms/step - loss: 9.8511 - accuracy: 0.1031\n",
      "test loss, test acc: [9.85114574432373, 0.1031000018119812]\n"
     ]
    }
   ],
   "source": [
    "print(\"Evaluate on test data with all model aggregation\")\n",
    "results = server.evaluate(X_test, y_test, batch_size=batch_size)\n",
    "print(\"test loss, test acc:\", results)\n",
    "# accuracy_aggregate is the baseline to calculate influence\n",
    "# influence is the difference between accurate_aggregatea and accuracy without one of client\n",
    "accuracy_aggregate = results[1]"
   ]
  },
  {
   "cell_type": "code",
   "execution_count": 15,
   "metadata": {},
   "outputs": [
    {
     "name": "stdout",
     "output_type": "stream",
     "text": [
      "Conducting Shapley Value\n"
     ]
    }
   ],
   "source": [
    "print(\"Conducting Shapley Value\")"
   ]
  },
  {
   "cell_type": "code",
   "execution_count": 50,
   "metadata": {},
   "outputs": [],
   "source": [
    "def make_all_subsets(n_client):\n",
    "    client_list = list(np.arange(n_client))\n",
    "    set_of_all_subsets = set([])\n",
    "    for i in range(len(client_list),-1,-1):\n",
    "        for element in itertools.combinations(client_list,i):\n",
    "            set_of_all_subsets.add(frozenset(element))\n",
    "    return sorted(set_of_all_subsets)"
   ]
  },
  {
   "cell_type": "code",
   "execution_count": 53,
   "metadata": {},
   "outputs": [],
   "source": [
    "l1 = make_all_subsets(3)"
   ]
  },
  {
   "cell_type": "code",
   "execution_count": 58,
   "metadata": {},
   "outputs": [
    {
     "data": {
      "text/plain": [
       "frozenset()"
      ]
     },
     "execution_count": 58,
     "metadata": {},
     "output_type": "execute_result"
    }
   ],
   "source": [
    "l1[0] "
   ]
  },
  {
   "cell_type": "code",
   "execution_count": 59,
   "metadata": {},
   "outputs": [
    {
     "data": {
      "text/plain": [
       "True"
      ]
     },
     "execution_count": 59,
     "metadata": {},
     "output_type": "execute_result"
    }
   ],
   "source": [
    "l1[0] == frozenset()"
   ]
  },
  {
   "cell_type": "code",
   "execution_count": 60,
   "metadata": {},
   "outputs": [
    {
     "data": {
      "text/plain": [
       "frozenset()"
      ]
     },
     "execution_count": 60,
     "metadata": {},
     "output_type": "execute_result"
    }
   ],
   "source": [
    "l1[0].difference(set([0]))"
   ]
  },
  {
   "cell_type": "code",
   "execution_count": 65,
   "metadata": {},
   "outputs": [],
   "source": [
    "def make_all_subsets(n_client):\n",
    "    client_list = list(np.arange(n_client))\n",
    "    set_of_all_subsets = set([])\n",
    "    for i in range(len(client_list),-1,-1):\n",
    "        for element in itertools.combinations(client_list,i):\n",
    "            set_of_all_subsets.add(frozenset(element))\n",
    "    return sorted(set_of_all_subsets)\n",
    "\n",
    "def calculate_shapley_values(n_client):\n",
    "        print(\"*************\")\n",
    "        client_list = list(np.arange(n_client))\n",
    "        shapley = []\n",
    "        clientShapley = 0\n",
    "        total = 0\n",
    "        factorialTotal = math.factorial(n_client)\n",
    "        set_of_all_subsets = make_all_subsets(n_client)\n",
    "        for client in client_list:\n",
    "            for subset in set_of_all_subsets:\n",
    "                if client in subset:\n",
    "                    remainderSet = subset.difference(set([client]))   \n",
    "                    remainder_res = [0,0]\n",
    "                    sub_weights = aggregate_weights(np.array(clients)[list(subset)])\n",
    "                    server.set_weights(sub_weights)\n",
    "                    sub_res = server.evaluate(X_test, y_test, batch_size=batch_size)\n",
    "                    b = len(remainderSet)\n",
    "                    factValue = (len(client_list) - b -1)                  \n",
    "                    if remainderSet != frozenset():                                            \n",
    "                        remainder_weights = aggregate_weights(np.array(clients)[list(remainderSet)])\n",
    "                        server.set_weights(remainder_weights)\n",
    "                        remainder_res = server.evaluate(X_test, y_test, batch_size=batch_size)\n",
    "                    difference = sub_res[1] - remainder_res[1]\n",
    "                    divisor = (math.factorial(factValue) * math.factorial(b) * 1.0) / (factorialTotal * 1.0)\n",
    "                    weightValue = divisor * difference\n",
    "                    clientShapley += weightValue\n",
    "            shapley.append(clientShapley)\n",
    "            print(\"Shapley Value of Client \" + str(client) + \": \" + str(clientShapley))\n",
    "            total = total + clientShapley\n",
    "            clientShapley = 0\n",
    "        print(\"Shapley Value in list: \"+ str(shapley))\n",
    "        print(\"Total: \" + str(total) + \" *** Note: This should equal to 1.0\")\n",
    "        print(\"*************\")"
   ]
  },
  {
   "cell_type": "code",
   "execution_count": 66,
   "metadata": {},
   "outputs": [
    {
     "name": "stdout",
     "output_type": "stream",
     "text": [
      "*************\n",
      "157/157 [==============================] - 15s 97ms/step - loss: 5.9834 - accuracy: 0.3660\n",
      "157/157 [==============================] - 15s 95ms/step - loss: 10.3943 - accuracy: 0.1895\n",
      "157/157 [==============================] - 16s 100ms/step - loss: 5.4598 - accuracy: 0.2953\n",
      "157/157 [==============================] - 15s 98ms/step - loss: 7.0810 - accuracy: 0.2229\n",
      "157/157 [==============================] - 15s 98ms/step - loss: 4.8364 - accuracy: 0.2671\n",
      "157/157 [==============================] - 15s 99ms/step - loss: 9.8511 - accuracy: 0.1031\n",
      "157/157 [==============================] - 15s 98ms/step - loss: 6.4989 - accuracy: 0.2538\n",
      "Shapley Value of Client 0: 0.04676666359106699\n",
      "157/157 [==============================] - 15s 98ms/step - loss: 5.4598 - accuracy: 0.2953\n",
      "157/157 [==============================] - 16s 100ms/step - loss: 6.4989 - accuracy: 0.2538\n",
      "157/157 [==============================] - 17s 108ms/step - loss: 4.8364 - accuracy: 0.2671\n",
      "157/157 [==============================] - 16s 100ms/step - loss: 10.3943 - accuracy: 0.1895\n",
      "157/157 [==============================] - 16s 101ms/step - loss: 5.9834 - accuracy: 0.3660\n",
      "157/157 [==============================] - 16s 99ms/step - loss: 9.8511 - accuracy: 0.1031\n",
      "157/157 [==============================] - 15s 98ms/step - loss: 7.0810 - accuracy: 0.2229\n",
      "Shapley Value of Client 1: 0.02686666945616404\n",
      "157/157 [==============================] - 16s 101ms/step - loss: 4.8364 - accuracy: 0.2671\n",
      "157/157 [==============================] - 16s 99ms/step - loss: 6.4989 - accuracy: 0.2538\n",
      "157/157 [==============================] - 16s 100ms/step - loss: 5.4598 - accuracy: 0.2953\n",
      "157/157 [==============================] - 16s 101ms/step - loss: 7.0810 - accuracy: 0.2229\n",
      "157/157 [==============================] - 16s 99ms/step - loss: 5.9834 - accuracy: 0.3660\n",
      "157/157 [==============================] - 16s 101ms/step - loss: 9.8511 - accuracy: 0.1031\n",
      "157/157 [==============================] - 16s 100ms/step - loss: 10.3943 - accuracy: 0.1895\n",
      "Shapley Value of Client 2: 0.029466668764750164\n",
      "Shapley Value in list: [0.04676666359106699, 0.02686666945616404, 0.029466668764750164]\n",
      "Total: 0.10310000181198119 *** Note: This should equal to 1.0\n",
      "*************\n"
     ]
    }
   ],
   "source": [
    "calculate_shapley_values(n_client)"
   ]
  },
  {
   "cell_type": "code",
   "execution_count": 4,
   "metadata": {},
   "outputs": [
    {
     "data": {
      "text/plain": [
       "(50000, 10)"
      ]
     },
     "execution_count": 4,
     "metadata": {},
     "output_type": "execute_result"
    }
   ],
   "source": [
    "y_train.shape"
   ]
  },
  {
   "cell_type": "code",
   "execution_count": 5,
   "metadata": {},
   "outputs": [],
   "source": [
    "def other_class(n_classes, current_class):\n",
    "    \"\"\"\n",
    "    Returns a list of class indices excluding the class indexed by class_ind\n",
    "    :param nb_classes: number of classes in the task\n",
    "    :param class_ind: the class index to be omitted\n",
    "    :return: one random class that != class_ind\n",
    "    \"\"\"\n",
    "    #print(current_class)\n",
    "    if current_class < 0 or current_class >= n_classes:\n",
    "        error_str = \"class_ind must be within the range (0, nb_classes - 1)\"\n",
    "        raise ValueError(error_str)\n",
    "\n",
    "    other_class_list = list(range(n_classes))\n",
    "    other_class_list.remove(current_class)\n",
    "    other_class = np.random.choice(other_class_list)\n",
    "    return other_class"
   ]
  },
  {
   "cell_type": "code",
   "execution_count": 43,
   "metadata": {},
   "outputs": [
    {
     "data": {
      "text/plain": [
       "array([6, 9, 9, ..., 9, 1, 1])"
      ]
     },
     "execution_count": 43,
     "metadata": {},
     "output_type": "execute_result"
    }
   ],
   "source": [
    "np.argmax(y_train, axis = 1)"
   ]
  },
  {
   "cell_type": "code",
   "execution_count": 42,
   "metadata": {},
   "outputs": [
    {
     "data": {
      "text/plain": [
       "array([0., 0., 0., 0., 0., 0., 1., 0., 0., 0.], dtype=float32)"
      ]
     },
     "execution_count": 42,
     "metadata": {},
     "output_type": "execute_result"
    }
   ],
   "source": [
    "y_train[0]"
   ]
  },
  {
   "cell_type": "code",
   "execution_count": null,
   "metadata": {},
   "outputs": [],
   "source": []
  },
  {
   "cell_type": "code",
   "execution_count": null,
   "metadata": {},
   "outputs": [],
   "source": [
    "to_categorical()"
   ]
  },
  {
   "cell_type": "code",
   "execution_count": null,
   "metadata": {},
   "outputs": [],
   "source": [
    "def set_to_one(y_train):\n",
    "    y = y_train.copy()\n",
    "    n_class = y.shape[1]  \n",
    "    for i in range(y.shape[0]):\n",
    "        y[i] = np_utils.to_categorical(0, n_class)\n",
    "    return y"
   ]
  },
  {
   "cell_type": "code",
   "execution_count": null,
   "metadata": {},
   "outputs": [],
   "source": [
    "def set_to_one(y_train):\n",
    "    y = y_train.copy()\n",
    "    n_class = y.shape[1]  \n",
    "    for i in range(y.shape[0]):\n",
    "        y[i] = np_utils.to_categorical(1, n_class)\n",
    "    return y"
   ]
  },
  {
   "cell_type": "code",
   "execution_count": 40,
   "metadata": {},
   "outputs": [],
   "source": [
    "def flip_label(y_train):\n",
    "    y = y_train.copy()\n",
    "    n_class = y.shape[1]  \n",
    "    for i in range(y.shape[0]):\n",
    "        y[i] = np_utils.to_categorical(other_class(n_class, y[i].argmax(axis=-1)), n_class)\n",
    "    return y"
   ]
  },
  {
   "cell_type": "code",
   "execution_count": 54,
   "metadata": {},
   "outputs": [
    {
     "name": "stdout",
     "output_type": "stream",
     "text": [
      "[7 0 2 ... 2 5 4]\n"
     ]
    }
   ],
   "source": [
    "result = np.argmax(flip_label(y_train), axis = 1)\n",
    "print(result)"
   ]
  },
  {
   "cell_type": "code",
   "execution_count": null,
   "metadata": {},
   "outputs": [],
   "source": []
  },
  {
   "cell_type": "code",
   "execution_count": 28,
   "metadata": {},
   "outputs": [
    {
     "data": {
      "text/plain": [
       "9"
      ]
     },
     "execution_count": 28,
     "metadata": {},
     "output_type": "execute_result"
    }
   ],
   "source": [
    "np.argmax(y_train, axis = 1)[-3]"
   ]
  },
  {
   "cell_type": "code",
   "execution_count": 26,
   "metadata": {},
   "outputs": [
    {
     "data": {
      "text/plain": [
       "9"
      ]
     },
     "execution_count": 26,
     "metadata": {},
     "output_type": "execute_result"
    }
   ],
   "source": [
    "result[-3]"
   ]
  },
  {
   "cell_type": "code",
   "execution_count": 21,
   "metadata": {},
   "outputs": [
    {
     "data": {
      "text/plain": [
       "array([3, 7, 5, ..., 9, 8, 1])"
      ]
     },
     "execution_count": 21,
     "metadata": {},
     "output_type": "execute_result"
    }
   ],
   "source": [
    "np.argmax(flip_label(y_train), axis = 1)"
   ]
  },
  {
   "cell_type": "code",
   "execution_count": 31,
   "metadata": {},
   "outputs": [
    {
     "data": {
      "text/plain": [
       "2"
      ]
     },
     "execution_count": 31,
     "metadata": {},
     "output_type": "execute_result"
    }
   ],
   "source": [
    "y_train[0].argmax(axis=-1)"
   ]
  },
  {
   "cell_type": "code",
   "execution_count": 35,
   "metadata": {},
   "outputs": [
    {
     "ename": "AttributeError",
     "evalue": "'list' object has no attribute 'toarray'",
     "output_type": "error",
     "traceback": [
      "\u001b[0;31m---------------------------------------------------------------------------\u001b[0m",
      "\u001b[0;31mAttributeError\u001b[0m                            Traceback (most recent call last)",
      "\u001b[0;32m<ipython-input-35-490e2617a86c>\u001b[0m in \u001b[0;36m<module>\u001b[0;34m\u001b[0m\n\u001b[0;32m----> 1\u001b[0;31m \u001b[0mlist\u001b[0m\u001b[0;34m(\u001b[0m\u001b[0mset\u001b[0m\u001b[0;34m(\u001b[0m\u001b[0;34m[\u001b[0m\u001b[0;36m1\u001b[0m\u001b[0;34m,\u001b[0m\u001b[0;36m2\u001b[0m\u001b[0;34m]\u001b[0m\u001b[0;34m)\u001b[0m\u001b[0;34m)\u001b[0m\u001b[0;34m.\u001b[0m\u001b[0mtoarray\u001b[0m\u001b[0;34m(\u001b[0m\u001b[0;34m)\u001b[0m\u001b[0;34m\u001b[0m\u001b[0m\n\u001b[0m",
      "\u001b[0;31mAttributeError\u001b[0m: 'list' object has no attribute 'toarray'"
     ]
    }
   ],
   "source": [
    "list(set([1,2]))"
   ]
  },
  {
   "cell_type": "code",
   "execution_count": 36,
   "metadata": {},
   "outputs": [
    {
     "data": {
      "text/plain": [
       "array([<tensorflow.python.keras.engine.training.Model object at 0x14bca6f60>,\n",
       "       <tensorflow.python.keras.engine.training.Model object at 0x14c44e9e8>],\n",
       "      dtype=object)"
      ]
     },
     "execution_count": 36,
     "metadata": {},
     "output_type": "execute_result"
    }
   ],
   "source": [
    "np.array(clients)[list(set([1,2]))]"
   ]
  },
  {
   "cell_type": "code",
   "execution_count": 48,
   "metadata": {},
   "outputs": [
    {
     "name": "stdout",
     "output_type": "stream",
     "text": [
      "*************\n"
     ]
    },
    {
     "ename": "TypeError",
     "evalue": "'numpy.int64' object is not iterable",
     "output_type": "error",
     "traceback": [
      "\u001b[0;31m---------------------------------------------------------------------------\u001b[0m",
      "\u001b[0;31mTypeError\u001b[0m                                 Traceback (most recent call last)",
      "\u001b[0;32m<ipython-input-48-dcec988762d3>\u001b[0m in \u001b[0;36m<module>\u001b[0;34m\u001b[0m\n\u001b[0;32m----> 1\u001b[0;31m \u001b[0mcalculate_shapley_values\u001b[0m\u001b[0;34m(\u001b[0m\u001b[0mn_client\u001b[0m\u001b[0;34m)\u001b[0m\u001b[0;34m\u001b[0m\u001b[0m\n\u001b[0m",
      "\u001b[0;32m<ipython-input-47-27092f4a774f>\u001b[0m in \u001b[0;36mcalculate_shapley_values\u001b[0;34m(n_client)\u001b[0m\n\u001b[1;32m     18\u001b[0m             \u001b[0;32mfor\u001b[0m \u001b[0msubset\u001b[0m \u001b[0;32min\u001b[0m \u001b[0mset_of_all_subsets\u001b[0m\u001b[0;34m:\u001b[0m\u001b[0;34m\u001b[0m\u001b[0m\n\u001b[1;32m     19\u001b[0m                 \u001b[0;32mif\u001b[0m \u001b[0mclient\u001b[0m \u001b[0;32min\u001b[0m \u001b[0msubset\u001b[0m\u001b[0;34m:\u001b[0m\u001b[0;34m\u001b[0m\u001b[0m\n\u001b[0;32m---> 20\u001b[0;31m                     \u001b[0mremainderSet\u001b[0m \u001b[0;34m=\u001b[0m \u001b[0msubset\u001b[0m\u001b[0;34m.\u001b[0m\u001b[0mdifference\u001b[0m\u001b[0;34m(\u001b[0m\u001b[0mset\u001b[0m\u001b[0;34m(\u001b[0m\u001b[0mclient\u001b[0m\u001b[0;34m)\u001b[0m\u001b[0;34m)\u001b[0m\u001b[0;34m\u001b[0m\u001b[0m\n\u001b[0m\u001b[1;32m     21\u001b[0m                     \u001b[0mb\u001b[0m \u001b[0;34m=\u001b[0m \u001b[0mlen\u001b[0m\u001b[0;34m(\u001b[0m\u001b[0mremainderSet\u001b[0m\u001b[0;34m)\u001b[0m\u001b[0;34m\u001b[0m\u001b[0m\n\u001b[1;32m     22\u001b[0m                     \u001b[0mfactValue\u001b[0m \u001b[0;34m=\u001b[0m \u001b[0;34m(\u001b[0m\u001b[0mlen\u001b[0m\u001b[0;34m(\u001b[0m\u001b[0mclient_list\u001b[0m\u001b[0;34m)\u001b[0m \u001b[0;34m-\u001b[0m \u001b[0mb\u001b[0m \u001b[0;34m-\u001b[0m\u001b[0;36m1\u001b[0m\u001b[0;34m)\u001b[0m\u001b[0;34m\u001b[0m\u001b[0m\n",
      "\u001b[0;31mTypeError\u001b[0m: 'numpy.int64' object is not iterable"
     ]
    }
   ],
   "source": [
    "calculate_shapley_values(n_client)"
   ]
  },
  {
   "cell_type": "code",
   "execution_count": 26,
   "metadata": {},
   "outputs": [
    {
     "ename": "TypeError",
     "evalue": "'int' object is not iterable",
     "output_type": "error",
     "traceback": [
      "\u001b[0;31m---------------------------------------------------------------------------\u001b[0m",
      "\u001b[0;31mTypeError\u001b[0m                                 Traceback (most recent call last)",
      "\u001b[0;32m<ipython-input-26-7af262dd0657>\u001b[0m in \u001b[0;36m<module>\u001b[0;34m\u001b[0m\n\u001b[0;32m----> 1\u001b[0;31m \u001b[0mfrozenset\u001b[0m\u001b[0;34m(\u001b[0m\u001b[0;34m{\u001b[0m\u001b[0;36m0\u001b[0m\u001b[0;34m}\u001b[0m\u001b[0;34m)\u001b[0m\u001b[0;34m.\u001b[0m\u001b[0mdifference\u001b[0m\u001b[0;34m(\u001b[0m\u001b[0mset\u001b[0m\u001b[0;34m(\u001b[0m\u001b[0;36m0\u001b[0m\u001b[0;34m)\u001b[0m\u001b[0;34m)\u001b[0m\u001b[0;34m\u001b[0m\u001b[0m\n\u001b[0m",
      "\u001b[0;31mTypeError\u001b[0m: 'int' object is not iterable"
     ]
    }
   ],
   "source": [
    "frozenset({0}).difference(set(0))"
   ]
  },
  {
   "cell_type": "code",
   "execution_count": 28,
   "metadata": {},
   "outputs": [
    {
     "data": {
      "text/plain": [
       "{0}"
      ]
     },
     "execution_count": 28,
     "metadata": {},
     "output_type": "execute_result"
    }
   ],
   "source": [
    "set([0])"
   ]
  },
  {
   "cell_type": "code",
   "execution_count": 49,
   "metadata": {},
   "outputs": [
    {
     "data": {
      "text/plain": [
       "[frozenset(),\n",
       " frozenset({2}),\n",
       " frozenset({1}),\n",
       " frozenset({1, 2}),\n",
       " frozenset({0}),\n",
       " frozenset({0, 1}),\n",
       " frozenset({0, 2}),\n",
       " frozenset({0, 1, 2})]"
      ]
     },
     "execution_count": 49,
     "metadata": {},
     "output_type": "execute_result"
    }
   ],
   "source": [
    "make_all_subsets(3)"
   ]
  },
  {
   "cell_type": "code",
   "execution_count": null,
   "metadata": {},
   "outputs": [],
   "source": []
  }
 ],
 "metadata": {
  "kernelspec": {
   "display_name": "Python 3",
   "language": "python",
   "name": "python3"
  },
  "language_info": {
   "codemirror_mode": {
    "name": "ipython",
    "version": 3
   },
   "file_extension": ".py",
   "mimetype": "text/x-python",
   "name": "python",
   "nbconvert_exporter": "python",
   "pygments_lexer": "ipython3",
   "version": "3.6.5"
  },
  "widgets": {
   "state": {},
   "version": "1.1.2"
  }
 },
 "nbformat": 4,
 "nbformat_minor": 2
}
