{
 "cells": [
  {
   "cell_type": "code",
   "execution_count": 1,
   "metadata": {},
   "outputs": [],
   "source": [
    "import numpy as np\n",
    "from keras.optimizers import SGD\n",
    "from keras.preprocessing.image import ImageDataGenerator\n",
    "from keras.models import clone_model\n",
    "from datasets import get_data, get_training_data\n",
    "from models import get_model, resnet_v1, resnet_v2\n",
    "from util import select_clean_uncertain, combine_result, inject_noise\n",
    "import time\n",
    "import argparse\n",
    "from tensorflow.python.lib.io import file_io\n",
    "from keras.utils import np_utils, multi_gpu_model\n",
    "from keras import backend as K\n",
    "from io import BytesIO\n",
    "from loss_acc_plot import loss_acc_plot\n",
    "from keras.datasets import mnist, cifar10, cifar100, fashion_mnist"
   ]
  },
  {
   "cell_type": "code",
   "execution_count": 2,
   "metadata": {},
   "outputs": [],
   "source": [
    "REPUTATION_SLOT = 5\n",
    "reputation_list = [0,0,0,0]"
   ]
  },
  {
   "cell_type": "code",
   "execution_count": 4,
   "metadata": {
    "scrolled": true
   },
   "outputs": [
    {
     "name": "stdout",
     "output_type": "stream",
     "text": [
      "X_train: (50000, 32, 32, 3)\n",
      "y_train: (50000, 10)\n",
      "X_test: (10000, 32, 32, 3)\n",
      "y_test (10000, 10)\n",
      "WARNING:tensorflow:From <ipython-input-4-8fa1c672b223>:77: Model.fit_generator (from tensorflow.python.keras.engine.training) is deprecated and will be removed in a future version.\n",
      "Instructions for updating:\n",
      "Please use Model.fit, which supports generators.\n",
      "Epoch 1/2\n",
      "31/31 [==============================] - 27s 871ms/step - loss: 6.9871 - accuracy: 0.2944 - val_loss: 7.1608 - val_accuracy: 0.2085\n",
      "Epoch 2/2\n",
      "31/31 [==============================] - 27s 872ms/step - loss: 6.0252 - accuracy: 0.4432 - val_loss: 5.9385 - val_accuracy: 0.3507\n",
      "Epoch 1/2\n",
      "62/62 [==============================] - 38s 608ms/step - loss: 6.5821 - accuracy: 0.3382 - val_loss: 5.9266 - val_accuracy: 0.3712\n",
      "Epoch 2/2\n",
      "62/62 [==============================] - 37s 590ms/step - loss: 5.1962 - accuracy: 0.4837 - val_loss: 5.0018 - val_accuracy: 0.3929\n",
      "Epoch 1/2\n",
      "93/93 [==============================] - 50s 540ms/step - loss: 6.2339 - accuracy: 0.3703 - val_loss: 5.4431 - val_accuracy: 0.3933\n",
      "Epoch 2/2\n",
      "93/93 [==============================] - 48s 514ms/step - loss: 4.5502 - accuracy: 0.4860 - val_loss: 4.3041 - val_accuracy: 0.4102\n",
      "Epoch 1/2\n",
      "125/125 [==============================] - 59s 474ms/step - loss: 5.9103 - accuracy: 0.4019 - val_loss: 5.2296 - val_accuracy: 0.3213\n",
      "Epoch 2/2\n",
      "125/125 [==============================] - 59s 475ms/step - loss: 3.9963 - accuracy: 0.5210 - val_loss: 3.8208 - val_accuracy: 0.4062\n",
      "Evaluate on test data with all model aggregation\n",
      "157/157 [==============================] - 15s 93ms/step - loss: 7.5642 - accuracy: 0.1492\n",
      "test loss, test acc: [7.564162731170654, 0.14920000731945038]\n",
      "remove client:  0\n",
      "Evaluate on test data with chosen models\n",
      "157/157 [==============================] - 14s 92ms/step - loss: 7.5280 - accuracy: 0.1328\n",
      "test loss, test acc: [7.52799129486084, 0.13279999792575836]\n",
      "reputation of each client on slot 0:  [0.2]\n",
      "remove client:  1\n",
      "Evaluate on test data with chosen models\n",
      "157/157 [==============================] - 15s 92ms/step - loss: 6.8402 - accuracy: 0.1930\n",
      "test loss, test acc: [6.840206146240234, 0.19300000369548798]\n",
      "reputation of each client on slot 0:  [0.2, 0.0]\n",
      "remove client:  2\n",
      "Evaluate on test data with chosen models\n",
      "157/157 [==============================] - 15s 93ms/step - loss: 8.2452 - accuracy: 0.1204\n",
      "test loss, test acc: [8.245157241821289, 0.12039999663829803]\n",
      "reputation of each client on slot 0:  [0.2, 0.0, 0.2]\n",
      "remove client:  3\n",
      "Evaluate on test data with chosen models\n",
      "157/157 [==============================] - 15s 94ms/step - loss: 8.2893 - accuracy: 0.1473\n",
      "test loss, test acc: [8.289320945739746, 0.14730000495910645]\n",
      "reputation of each client on slot 0:  [0.2, 0.0, 0.2, 0.2]\n"
     ]
    },
    {
     "ename": "IndexError",
     "evalue": "list index out of range",
     "output_type": "error",
     "traceback": [
      "\u001b[0;31m---------------------------------------------------------------------------\u001b[0m",
      "\u001b[0;31mIndexError\u001b[0m                                Traceback (most recent call last)",
      "\u001b[0;32m<ipython-input-4-8fa1c672b223>\u001b[0m in \u001b[0;36m<module>\u001b[0;34m\u001b[0m\n\u001b[1;32m    145\u001b[0m         \u001b[0mprint\u001b[0m\u001b[0;34m(\u001b[0m\u001b[0;34m\"reputation of each client on slot \"\u001b[0m \u001b[0;34m+\u001b[0m \u001b[0mstr\u001b[0m\u001b[0;34m(\u001b[0m\u001b[0mslot\u001b[0m\u001b[0;34m)\u001b[0m \u001b[0;34m+\u001b[0m\u001b[0;34m\": \"\u001b[0m\u001b[0;34m,\u001b[0m \u001b[0mstr\u001b[0m\u001b[0;34m(\u001b[0m\u001b[0mreputation_list_round\u001b[0m\u001b[0;34m)\u001b[0m\u001b[0;34m)\u001b[0m\u001b[0;34m\u001b[0m\u001b[0m\n\u001b[1;32m    146\u001b[0m \u001b[0;34m\u001b[0m\u001b[0m\n\u001b[0;32m--> 147\u001b[0;31m     \u001b[0mreputation_list\u001b[0m \u001b[0;34m=\u001b[0m \u001b[0;34m[\u001b[0m\u001b[0;34m(\u001b[0m\u001b[0mreputation_list\u001b[0m\u001b[0;34m[\u001b[0m\u001b[0mr\u001b[0m\u001b[0;34m]\u001b[0m \u001b[0;34m+\u001b[0m \u001b[0mreputation_list_round\u001b[0m\u001b[0;34m[\u001b[0m\u001b[0mr\u001b[0m\u001b[0;34m]\u001b[0m\u001b[0;34m)\u001b[0m \u001b[0;32mfor\u001b[0m \u001b[0mr\u001b[0m \u001b[0;32min\u001b[0m \u001b[0mrange\u001b[0m\u001b[0;34m(\u001b[0m\u001b[0mn_client\u001b[0m\u001b[0;34m)\u001b[0m\u001b[0;34m]\u001b[0m\u001b[0;34m\u001b[0m\u001b[0m\n\u001b[0m\u001b[1;32m    148\u001b[0m     \u001b[0mprint\u001b[0m\u001b[0;34m(\u001b[0m\u001b[0;34m\"total reputation of each client \"\u001b[0m \u001b[0;34m+\u001b[0m \u001b[0mstr\u001b[0m\u001b[0;34m(\u001b[0m\u001b[0mslot\u001b[0m\u001b[0;34m)\u001b[0m \u001b[0;34m+\u001b[0m\u001b[0;34m\": \"\u001b[0m\u001b[0;34m,\u001b[0m \u001b[0mstr\u001b[0m\u001b[0;34m(\u001b[0m\u001b[0mreputation_list\u001b[0m\u001b[0;34m)\u001b[0m\u001b[0;34m)\u001b[0m\u001b[0;34m\u001b[0m\u001b[0m\n",
      "\u001b[0;32m<ipython-input-4-8fa1c672b223>\u001b[0m in \u001b[0;36m<listcomp>\u001b[0;34m(.0)\u001b[0m\n\u001b[1;32m    145\u001b[0m         \u001b[0mprint\u001b[0m\u001b[0;34m(\u001b[0m\u001b[0;34m\"reputation of each client on slot \"\u001b[0m \u001b[0;34m+\u001b[0m \u001b[0mstr\u001b[0m\u001b[0;34m(\u001b[0m\u001b[0mslot\u001b[0m\u001b[0;34m)\u001b[0m \u001b[0;34m+\u001b[0m\u001b[0;34m\": \"\u001b[0m\u001b[0;34m,\u001b[0m \u001b[0mstr\u001b[0m\u001b[0;34m(\u001b[0m\u001b[0mreputation_list_round\u001b[0m\u001b[0;34m)\u001b[0m\u001b[0;34m)\u001b[0m\u001b[0;34m\u001b[0m\u001b[0m\n\u001b[1;32m    146\u001b[0m \u001b[0;34m\u001b[0m\u001b[0m\n\u001b[0;32m--> 147\u001b[0;31m     \u001b[0mreputation_list\u001b[0m \u001b[0;34m=\u001b[0m \u001b[0;34m[\u001b[0m\u001b[0;34m(\u001b[0m\u001b[0mreputation_list\u001b[0m\u001b[0;34m[\u001b[0m\u001b[0mr\u001b[0m\u001b[0;34m]\u001b[0m \u001b[0;34m+\u001b[0m \u001b[0mreputation_list_round\u001b[0m\u001b[0;34m[\u001b[0m\u001b[0mr\u001b[0m\u001b[0;34m]\u001b[0m\u001b[0;34m)\u001b[0m \u001b[0;32mfor\u001b[0m \u001b[0mr\u001b[0m \u001b[0;32min\u001b[0m \u001b[0mrange\u001b[0m\u001b[0;34m(\u001b[0m\u001b[0mn_client\u001b[0m\u001b[0;34m)\u001b[0m\u001b[0;34m]\u001b[0m\u001b[0;34m\u001b[0m\u001b[0m\n\u001b[0m\u001b[1;32m    148\u001b[0m     \u001b[0mprint\u001b[0m\u001b[0;34m(\u001b[0m\u001b[0;34m\"total reputation of each client \"\u001b[0m \u001b[0;34m+\u001b[0m \u001b[0mstr\u001b[0m\u001b[0;34m(\u001b[0m\u001b[0mslot\u001b[0m\u001b[0;34m)\u001b[0m \u001b[0;34m+\u001b[0m\u001b[0;34m\": \"\u001b[0m\u001b[0;34m,\u001b[0m \u001b[0mstr\u001b[0m\u001b[0;34m(\u001b[0m\u001b[0mreputation_list\u001b[0m\u001b[0;34m)\u001b[0m\u001b[0;34m)\u001b[0m\u001b[0;34m\u001b[0m\u001b[0m\n",
      "\u001b[0;31mIndexError\u001b[0m: list index out of range"
     ]
    }
   ],
   "source": [
    "for slot in range(REPUTATION_SLOT):\n",
    "\n",
    "    NUM_CLASSES = {'mnist': 10, 'svhn': 10, 'cifar-10': 10, 'cifar-100': 100, 'celeb': 20}\n",
    "    dataset = \"cifar-10\"\n",
    "    init_noise_ratio = 0\n",
    "    data_ratio = 100.0\n",
    "    X_train, y_train, X_test, y_test, un_selected_index = get_data(dataset, init_noise_ratio, data_ratio, random_shuffle=False)\n",
    "\n",
    "\n",
    "    # In[3]:\n",
    "\n",
    "\n",
    "    n_client = 4\n",
    "    client_data_number_interval = 2000\n",
    "    clients = []\n",
    "    clients_train_data = []\n",
    "    clients_train_label = []\n",
    "\n",
    "\n",
    "    # In[4]:\n",
    "\n",
    "\n",
    "    cursor = 0\n",
    "    image_shape = X_train.shape[1:]\n",
    "    server =  get_model(dataset, input_tensor=None, input_shape=image_shape, num_classes=NUM_CLASSES[dataset])\n",
    "    # initialize n_client models, and the correspondante training data for each client\n",
    "    # each client has different data size\n",
    "    for i in range(n_client):\n",
    "        clients.append(get_model(dataset, input_tensor=None, input_shape=image_shape, num_classes=NUM_CLASSES[dataset]))\n",
    "        clients_train_data.append(X_train[cursor: cursor+client_data_number_interval*(i+1)])\n",
    "        clients_train_label.append(y_train[cursor: cursor+client_data_number_interval*(i+1)])\n",
    "        cursor = cursor + client_data_number_interval*(i)\n",
    "\n",
    "\n",
    "    # In[5]:\n",
    "\n",
    "\n",
    "    optimizer = SGD(lr=0.01, decay=1e-4, momentum=0.9)\n",
    "    server.compile(loss='categorical_crossentropy',\n",
    "                  optimizer=optimizer,\n",
    "                  metrics=['accuracy'])\n",
    "    for i in range(n_client):\n",
    "        clients[i].compile(loss='categorical_crossentropy',\n",
    "                  optimizer=optimizer,\n",
    "                  metrics=['accuracy'])\n",
    "\n",
    "\n",
    "    # In[6]:\n",
    "\n",
    "\n",
    "    datagen = ImageDataGenerator(\n",
    "            featurewise_center = False,  # set input mean to 0 over the dataset\n",
    "            samplewise_center = False,  # set each sample mean to 0\n",
    "            featurewise_std_normalization = False,  # divide inputs by std of the dataset\n",
    "            samplewise_std_normalization = False,  # divide each input by its std\n",
    "            zca_whitening = False,  # apply ZCA whitening\n",
    "            rotation_range = 0,  # randomly rotate images in the range (degrees, 0 to 180)\n",
    "            width_shift_range = 0.1,  # randomly shift images horizontally (fraction of total width)\n",
    "            height_shift_range = 0.1,  # randomly shift images vertically (fraction of total height)\n",
    "            horizontal_flip = True,  # randomly flip images\n",
    "            vertical_flip = False,  # randomly flip images\n",
    "            )\n",
    "    datagen.fit(X_train)\n",
    "\n",
    "\n",
    "    # In[8]:\n",
    "\n",
    "\n",
    "    batch_size = 64\n",
    "    results = []\n",
    "    # 2 is only for quick test, need to set a large number\n",
    "    epochs = 2\n",
    "    for i in range(n_client):\n",
    "        results.append(\n",
    "            clients[i].fit_generator(datagen.flow(clients_train_data[i], clients_train_label[i], batch_size=batch_size),\n",
    "                                    steps_per_epoch=clients_train_data[i].shape[0]//batch_size, epochs=epochs,\n",
    "                                    validation_data=(X_test, y_test)\n",
    "                                    )\n",
    "        )\n",
    "\n",
    "\n",
    "    # In[106]:\n",
    "\n",
    "\n",
    "    def aggregate_weights(client_list):\n",
    "        n_client = len(client_list)\n",
    "        n_layers = len(client_list[0].get_weights())\n",
    "        if n_client == 0:\n",
    "            print('empty input')\n",
    "            return\n",
    "        # copy the weights and structure from last client\n",
    "        result = client_list[n_client-1].get_weights().copy()\n",
    "        for k in range(n_client):\n",
    "            result[k] = result[k]*(1.0/n_client)    \n",
    "        for i in range(n_layers):\n",
    "            # Using n_client -1: because result contains already last client's weights\n",
    "            for j in range(n_client-1):\n",
    "                result[i] = result[i] + client_list[j].get_weights()[i]*(1.0/n_client)            \n",
    "        return result\n",
    "\n",
    "\n",
    "    # In[69]:\n",
    "\n",
    "    weights = aggregate_weights(clients)\n",
    "\n",
    "\n",
    "    # In[77]:\n",
    "\n",
    "\n",
    "    server.set_weights(weights)\n",
    "\n",
    "\n",
    "    # In[100]:\n",
    "\n",
    "\n",
    "    print(\"Evaluate on test data with all model aggregation\")\n",
    "    results = server.evaluate(X_test, y_test, batch_size=batch_size)\n",
    "    print(\"test loss, test acc:\", results)\n",
    "    # accuracy_aggregate is the baseline to calculate influence\n",
    "    # influence is the difference between accurate_aggregatea and accuracy without one of client\n",
    "    accuracy_aggregate = results[1]\n",
    "\n",
    "\n",
    "    # In[104]:\n",
    "    reputation_list_round = []\n",
    "\n",
    "    # In[105]:\n",
    "\n",
    "    for i in range(n_client):\n",
    "        reputation = 0\n",
    "        chosen_number = list(np.arange(4))\n",
    "        chosen_number.remove(i)\n",
    "        print('remove client: ', i)\n",
    "        chosen_clients = [clients[index] for index in chosen_number]\n",
    "        sub_weights = aggregate_weights(chosen_clients)\n",
    "        server.set_weights(sub_weights)\n",
    "        print(\"Evaluate on test data with chosen models\")\n",
    "        results = server.evaluate(X_test, y_test, batch_size=batch_size)\n",
    "        print(\"test loss, test acc:\", results)\n",
    "        if (accuracy_aggregate - results[1])>=0:\n",
    "            reputation = 1\n",
    "        else:\n",
    "            reputation = 0 # can be modified\n",
    "        reputation_list_round.append(reputation/REPUTATION_SLOT)\n",
    "        print(\"reputation of each client on slot \" + str(slot) +\": \", str(reputation_list_round))\n",
    "        \n",
    "    reputation_list = [(reputation_list[r] + reputation_list_round[r]) for r in range(n_client)]\n",
    "    print(\"total reputation of each client \" + str(slot) +\": \", str(reputation_list))"
   ]
  },
  {
   "cell_type": "code",
   "execution_count": 5,
   "metadata": {},
   "outputs": [
    {
     "data": {
      "text/plain": [
       "[]"
      ]
     },
     "execution_count": 5,
     "metadata": {},
     "output_type": "execute_result"
    }
   ],
   "source": [
    "reputation_list"
   ]
  },
  {
   "cell_type": "code",
   "execution_count": null,
   "metadata": {},
   "outputs": [],
   "source": [
    "reputation_list = [(reputation_list[r] + reputation_list_round[r]) for r in range(n_client)]"
   ]
  },
  {
   "cell_type": "code",
   "execution_count": 6,
   "metadata": {},
   "outputs": [
    {
     "data": {
      "text/plain": [
       "[0.2, 0.0, 0.2, 0.2]"
      ]
     },
     "execution_count": 6,
     "metadata": {},
     "output_type": "execute_result"
    }
   ],
   "source": [
    "reputation_list_round"
   ]
  },
  {
   "cell_type": "code",
   "execution_count": null,
   "metadata": {},
   "outputs": [],
   "source": []
  }
 ],
 "metadata": {
  "kernelspec": {
   "display_name": "Python 3",
   "language": "python",
   "name": "python3"
  },
  "language_info": {
   "codemirror_mode": {
    "name": "ipython",
    "version": 3
   },
   "file_extension": ".py",
   "mimetype": "text/x-python",
   "name": "python",
   "nbconvert_exporter": "python",
   "pygments_lexer": "ipython3",
   "version": "3.6.5"
  },
  "widgets": {
   "state": {},
   "version": "1.1.2"
  }
 },
 "nbformat": 4,
 "nbformat_minor": 2
}
